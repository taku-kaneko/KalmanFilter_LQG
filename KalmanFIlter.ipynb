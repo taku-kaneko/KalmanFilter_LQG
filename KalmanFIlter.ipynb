{
 "cells": [
  {
   "cell_type": "markdown",
   "metadata": {},
   "source": [
    "ライブラリのインポート"
   ]
  },
  {
   "cell_type": "code",
   "execution_count": 1,
   "metadata": {
    "collapsed": true
   },
   "outputs": [],
   "source": [
    "import numpy as np\n",
    "import numpy.random as rd\n",
    "import matplotlib.pyplot as plt\n",
    "from numpy.linalg import multi_dot"
   ]
  },
  {
   "cell_type": "markdown",
   "metadata": {},
   "source": [
    "Kalman Filterのクラス定義"
   ]
  },
  {
   "cell_type": "code",
   "execution_count": 2,
   "metadata": {
    "collapsed": true
   },
   "outputs": [],
   "source": [
    "class KalmanFilter:\n",
    "    def __init__ (self,  A, B, C, Sigma_x, Sigma_y, mu, sigma):\n",
    "        \"\"\"\n",
    "        State Space Model is\n",
    "        x_(t+1) = Ax_t + Bu_t + w_t (State equation)\n",
    "        y_t         = Cx_t + v_t               (Observation equation)\n",
    "        w_t ~ N(0, Q), v_t ~ N(0, R)\n",
    "        \"\"\"\n",
    "        self.A = A\n",
    "        self.B = B\n",
    "        self.C = C\n",
    "        self.Q = Sigma_x\n",
    "        self.R = Sigma_y\n",
    "        \n",
    "        # Variables of Kalman Filter\n",
    "        self.sigma = sigma\n",
    "        self.mu = mu\n",
    "        \n",
    "        #self.x_hat =  (np.random.multivariate_normal(self.mu.T[0], self.sigma, 1))[0][:, None]\n",
    "        \n",
    "    def predict (self, u):\n",
    "        self.mu_hat = self.A.dot(self.mu) + self.B.dot(u)\n",
    "        self.sigma_hat = self.Q + multi_dot([self.A, self.sigma, self.A.T])\n",
    "        \n",
    "        self.x_hat = (np.random.multivariate_normal(self.mu_hat.T[0], self.sigma_hat, 1))[0][:, None]\n",
    "        \n",
    "        return (self.x_hat)\n",
    "        \n",
    "    def update (self, y):\n",
    "        y_tilda = y - self.C.dot(self.mu_hat) # Observation error\n",
    "        S = multi_dot([self.C, self.sigma_hat, self.C.T]) + self.R # Covariance of the observation error\n",
    "        K = multi_dot([self.sigma_hat, self.C.T, np.linalg.inv(S)]) # Optimal kalman gain\n",
    "        \n",
    "        self.mu = self.mu_hat + K.dot(y_tilda) # update mean\n",
    "        self.sigma = self.sigma_hat - multi_dot([K, self.C, self.sigma_hat]) # update covariance\n",
    "        "
   ]
  },
  {
   "cell_type": "markdown",
   "metadata": {},
   "source": [
    "LQGのクラス定義"
   ]
  },
  {
   "cell_type": "code",
   "execution_count": 3,
   "metadata": {
    "collapsed": true
   },
   "outputs": [],
   "source": [
    "class LQG:\n",
    "    def __init__(self, A, B, C, Q, R, T):\n",
    "        self.L = np.zeros([B.shape[1], B.shape[0], T])\n",
    "        self.S_next = Q\n",
    "        self.s_next = 0\n",
    "        \n",
    "        self.Q = Q\n",
    "        self.R = R\n",
    "        self.T = T\n",
    "        \n",
    "    def create(self, A, B, C):\n",
    "        for i in range(self.T - 1, -1, -1):\n",
    "            self.L[:, :, i] = np.linalg.inv(multi_dot([B.T, self.S_next, B]) + self.R).dot(multi_dot([B.T, self.S_next.T, A]))\n",
    "            self.s_next = multi_dot([C, self.S_next, C.T]) + self.s_next\n",
    "            #self.S_next = self.Q + multi_dot([self.L[:, :, i].T, self.R, self.L[:, :, i]]) + multi_dot([A.T, self.S_next, B, self.L[:, :, i]]) + multi_dot([self.L[:, :, i].T, B.T, self.S_next, B, self.L[:, :, i]])\n",
    "            self.S_next = self.Q + multi_dot([self.L[:, :, i].T, self.R, self.L[:, :, i]]) + multi_dot([A.T, self.S_next, A]) - 2 *  multi_dot([A.T, self.S_next, B, self.L[:, :, i]]) + multi_dot([self.L[:, :, i].T, B.T, self.S_next, B, self.L[:, :, i]])\n",
    "            \n",
    "        return self.L\n",
    "    "
   ]
  },
  {
   "cell_type": "markdown",
   "metadata": {},
   "source": [
    "Linear Gaussian State Space modelの関数定義"
   ]
  },
  {
   "cell_type": "code",
   "execution_count": 4,
   "metadata": {
    "collapsed": true
   },
   "outputs": [],
   "source": [
    "def LinearGausseModel(A, B, C, Sigma_x, Sigma_y, x, u):\n",
    "    mean_x = ((A.dot(x) + B.dot(u))).T[0]\n",
    "    cov_x    = np.dot(Sigma_x, Sigma_x.T)\n",
    "    \n",
    "    mean_y = ((C.dot(x))).T[0]\n",
    "    cov_y    =  np.dot(Sigma_y, Sigma_y.T)\n",
    "\n",
    "    x_next = (np.random.multivariate_normal(mean_x, cov_x, 1))[0][:, None]\n",
    "    y = (np.random.multivariate_normal(mean_y, cov_y, 1))[0][:, None]\n",
    "\n",
    "    return x_next, y"
   ]
  },
  {
   "cell_type": "markdown",
   "metadata": {},
   "source": [
    "実行"
   ]
  },
  {
   "cell_type": "code",
   "execution_count": 5,
   "metadata": {
    "collapsed": false
   },
   "outputs": [
    {
     "name": "stdout",
     "output_type": "stream",
     "text": [
      "end\n"
     ]
    }
   ],
   "source": [
    "T = 100\n",
    "\n",
    "# Weights of LQG\n",
    "D = np.eye(2) * 1\n",
    "Q = np.array([[1, 0], [0, 1]]) * 1\n",
    "R = np.array([[1]]) * 0.01\n",
    "\n",
    "# Matrices of LGSSM\n",
    "A = np.array([[0.5, 0.3], [0, 1]])\n",
    "B = np.array([2, 1])[:, None]\n",
    "C = np.array([[0.1, 5], [1., 0.3]])#[None, :]\n",
    "Sigma_x = np.array([[1, 0], [0, 1]]) \n",
    "#Sigma_x = D.dot(D.T)\n",
    "Sigma_y = np.array([[1, 0], [0, 1]]) * 1\n",
    "\n",
    "# Initial mean and covariance of Kalman filter\n",
    "mu_kf = np.array([0, 0])[:, None]\n",
    "sigma_kf = np.array([[0, 0], [0, 0]])\n",
    "\n",
    "# Create Kalman filter\n",
    "kf = KalmanFilter(A, B, C, Sigma_x, Sigma_y, mu_kf, sigma_kf)\n",
    "\n",
    "# Create controler by LQG\n",
    "lq = LQG(A, B, D, Q, R, T)\n",
    "L_t = lq.create(A, B, D)\n",
    "\n",
    "# action\n",
    "u = np.array([0])[:, None]\n",
    "\n",
    "# save variable\n",
    "x = np.zeros([A.shape[0], 1, T])\n",
    "x_kf = np.zeros([x.shape[0], x.shape[1], T])\n",
    "y = np.zeros([C.shape[0], 1, T])\n",
    "u = np.zeros([1, 1, T])\n",
    "\n",
    "# initial state\n",
    "x[:, :, 0] = np.array([50, -30])[:, None]\n",
    "\n",
    "# Compute Kalman Filter\n",
    "for i in range(0, T, 1):\n",
    "    \n",
    "    x_kf[:, :, i] = kf.predict(u[:, :, i])\n",
    "    \n",
    "    #u =  rd.uniform(-10, 10, 1)[:, None]\n",
    "    u[:, :, i] = -L_t[:, :, i].dot(x_kf[:, :, i])\n",
    "    #print u\n",
    "       \n",
    "    if i < T - 1:\n",
    "        x[:, :, i + 1], y[:, :, i] =  LinearGausseModel(A, B, C, Sigma_x, Sigma_y, x[:, :, i], u[:, :, i])\n",
    "    else:\n",
    "        _, y[:, :, i] =  LinearGausseModel(A, B, C, Sigma_x, Sigma_y, x[:, :, i], u[:, :, i])\n",
    "    \n",
    "    kf.update(y[:, :, i])\n",
    "    \n",
    "print 'end'"
   ]
  },
  {
   "cell_type": "code",
   "execution_count": 6,
   "metadata": {
    "collapsed": false
   },
   "outputs": [
    {
     "data": {
      "text/plain": [
       "(array([[ 0.19680809],\n",
       "        [ 0.8315766 ]]), array([[-0.56514479],\n",
       "        [ 2.43374061]]))"
      ]
     },
     "execution_count": 6,
     "metadata": {},
     "output_type": "execute_result"
    }
   ],
   "source": [
    "LinearGausseModel(A, B, C, Sigma_x, Sigma_y, x[:, :, i], u[:, :, i])"
   ]
  },
  {
   "cell_type": "code",
   "execution_count": 7,
   "metadata": {
    "collapsed": false
   },
   "outputs": [
    {
     "data": {
      "image/png": "[encoded data removed]",
      "text/plain": [
       "<matplotlib.figure.Figure at 0x1117378d0>"
      ]
     },
     "metadata": {},
     "output_type": "display_data"
    }
   ],
   "source": [
    "plt.figure(figsize = (19, 3))\n",
    "plt.subplots_adjust(wspace=0.6, hspace=0.6)\n",
    "\n",
    "plt.subplot(141)\n",
    "plt.plot(x[0, 0, :], x[1, 0, :], '-o')\n",
    "plt.xlabel(\"$x_1$\")\n",
    "plt.ylabel(\"$x_2$\")\n",
    "plt.grid()\n",
    "\n",
    "plt.subplot(142)\n",
    "#plt.plot(x_kf[0, 0, :], x_kf[1, 0, :], '-o')\n",
    "plt.plot(u[0, 0,:] , '-o')\n",
    "#plt.xlabel(\"$\\hat{x}_1$\")\n",
    "#plt.ylabel(\"$\\hat{x}_2$\")\n",
    "plt.grid()\n",
    "\n",
    "plt.subplot(143)\n",
    "plt.plot(x[0, 0, :], label = \"$x_1$\")\n",
    "plt.plot(x_kf[0, 0, :], label = \"$\\hat{x}_1$\")\n",
    "plt.hlines(0, 0, T, linestyles=\"dashed\")\n",
    "plt.xlabel(\"$t$\")\n",
    "plt.ylabel(\"$\\mathbf{x}$\")\n",
    "plt.legend(ncol = 2)\n",
    "\n",
    "plt.subplot(144)\n",
    "plt.plot(x[1, 0, :], label = \"$x_2$\")\n",
    "plt.plot(x_kf[1, 0, :], label = \"$\\hat{x}_2$\")\n",
    "plt.hlines(0, 0, T, linestyles=\"dashed\")\n",
    "plt.xlabel(\"$t$\")\n",
    "plt.ylabel(\"$\\mathbf{x}$\")\n",
    "plt.legend(ncol = 2)\n",
    "\n",
    "'''\n",
    "plt.subplot(144)\n",
    "plt.plot(y[0, 0, :], label = 'truth')\n",
    "#plt.plot(obs_kf[0, 0, :], label = 'prediction')\n",
    "plt.xlabel(\"$t$\")\n",
    "plt.ylabel(\"$\\hat{\\mathbf{y}}$\")\n",
    "'''\n",
    "\n",
    "plt.show()"
   ]
  },
  {
   "cell_type": "code",
   "execution_count": null,
   "metadata": {
    "collapsed": true
   },
   "outputs": [],
   "source": []
  }
 ],
 "metadata": {
  "kernelspec": {
   "display_name": "Python 2",
   "language": "python",
   "name": "python2"
  },
  "language_info": {
   "codemirror_mode": {
    "name": "ipython",
    "version": 2
   },
   "file_extension": ".py",
   "mimetype": "text/x-python",
   "name": "python",
   "nbconvert_exporter": "python",
   "pygments_lexer": "ipython2",
   "version": "2.7.13"
  }
 },
 "nbformat": 4,
 "nbformat_minor": 2
}
